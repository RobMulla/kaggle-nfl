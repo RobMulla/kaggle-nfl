{
 "cells": [
  {
   "cell_type": "markdown",
   "metadata": {},
   "source": [
    "# Develop a Metric For Determining how 'Dangerous' a Play is"
   ]
  },
  {
   "cell_type": "code",
   "execution_count": 1,
   "metadata": {},
   "outputs": [],
   "source": [
    "import pandas as pd\n",
    "import numpy as np\n",
    "import matplotlib.pylab as plt\n",
    "import seaborn as sns\n",
    "import os\n",
    "import glob\n",
    "import sys\n",
    "sys.path.insert(0, '../scripts/')\n",
    "from football_field import create_football_field\n",
    "from plots import plot_play\n",
    "\n",
    "%matplotlib inline\n",
    "pd.options.display.max_columns = 100\n",
    "\n",
    "%load_ext autoreload\n",
    "%autoreload 2"
   ]
  },
  {
   "cell_type": "code",
   "execution_count": 33,
   "metadata": {},
   "outputs": [],
   "source": [
    "df = pd.read_parquet('../working/momentum-allplays-1yarddistance.parquet')"
   ]
  },
  {
   "cell_type": "code",
   "execution_count": 6,
   "metadata": {},
   "outputs": [
    {
     "data": {
      "text/plain": [
       "<matplotlib.axes._subplots.AxesSubplot at 0x7f7c9730e048>"
      ]
     },
     "execution_count": 6,
     "metadata": {},
     "output_type": "execute_result"
    },
    {
     "data": {
      "image/png": "[encoded data removed]",
      "text/plain": [
       "<Figure size 432x288 with 1 Axes>"
      ]
     },
     "metadata": {
      "needs_background": "light"
     },
     "output_type": "display_data"
    }
   ],
   "source": [
    "df['opp_momentum'].plot(kind='hist', bins=100)"
   ]
  },
  {
   "cell_type": "code",
   "execution_count": 34,
   "metadata": {},
   "outputs": [],
   "source": [
    "df['Momentum_Danger_Level'] = pd.cut(df['opp_momentum'], bins=5, labels=['Very_Low', 'Low','Medium','High','Very_High'])"
   ]
  },
  {
   "cell_type": "code",
   "execution_count": 35,
   "metadata": {},
   "outputs": [
    {
     "data": {
      "text/plain": [
       "Momentum_Danger_Level\n",
       "Very_Low     6191822\n",
       "Low            65250\n",
       "Medium          2700\n",
       "High             224\n",
       "Very_High         10\n",
       "dtype: int64"
      ]
     },
     "execution_count": 35,
     "metadata": {},
     "output_type": "execute_result"
    }
   ],
   "source": [
    "df.groupby('Momentum_Danger_Level').size()"
   ]
  },
  {
   "cell_type": "code",
   "execution_count": 36,
   "metadata": {},
   "outputs": [],
   "source": [
    "df = pd.concat([df, pd.get_dummies(df['Momentum_Danger_Level'], prefix='danger')], axis=1)"
   ]
  },
  {
   "cell_type": "code",
   "execution_count": 39,
   "metadata": {},
   "outputs": [],
   "source": [
    "counts = df.groupby(['Season_Year','GameKey','PlayID']) \\\n",
    "    ['danger_Very_Low','danger_Low','danger_Medium','danger_High','danger_Very_High'].sum().sort_values('danger_Very_High').reset_index()"
   ]
  },
  {
   "cell_type": "code",
   "execution_count": 40,
   "metadata": {},
   "outputs": [
    {
     "data": {
      "text/html": [
       "<div>\n",
       "<style scoped>\n",
       "    .dataframe tbody tr th:only-of-type {\n",
       "        vertical-align: middle;\n",
       "    }\n",
       "\n",
       "    .dataframe tbody tr th {\n",
       "        vertical-align: top;\n",
       "    }\n",
       "\n",
       "    .dataframe thead th {\n",
       "        text-align: right;\n",
       "    }\n",
       "</style>\n",
       "<table border=\"1\" class=\"dataframe\">\n",
       "  <thead>\n",
       "    <tr style=\"text-align: right;\">\n",
       "      <th></th>\n",
       "      <th>Season_Year</th>\n",
       "      <th>GameKey</th>\n",
       "      <th>PlayID</th>\n",
       "      <th>danger_Very_Low</th>\n",
       "      <th>danger_Low</th>\n",
       "      <th>danger_Medium</th>\n",
       "      <th>danger_High</th>\n",
       "      <th>danger_Very_High</th>\n",
       "    </tr>\n",
       "  </thead>\n",
       "  <tbody>\n",
       "    <tr>\n",
       "      <th>0</th>\n",
       "      <td>2016</td>\n",
       "      <td>3</td>\n",
       "      <td>455</td>\n",
       "      <td>1054.0</td>\n",
       "      <td>18.0</td>\n",
       "      <td>0.0</td>\n",
       "      <td>0.0</td>\n",
       "      <td>0.0</td>\n",
       "    </tr>\n",
       "    <tr>\n",
       "      <th>1</th>\n",
       "      <td>2017</td>\n",
       "      <td>444</td>\n",
       "      <td>3454</td>\n",
       "      <td>572.0</td>\n",
       "      <td>4.0</td>\n",
       "      <td>0.0</td>\n",
       "      <td>0.0</td>\n",
       "      <td>0.0</td>\n",
       "    </tr>\n",
       "    <tr>\n",
       "      <th>2</th>\n",
       "      <td>2017</td>\n",
       "      <td>444</td>\n",
       "      <td>3202</td>\n",
       "      <td>724.0</td>\n",
       "      <td>26.0</td>\n",
       "      <td>0.0</td>\n",
       "      <td>0.0</td>\n",
       "      <td>0.0</td>\n",
       "    </tr>\n",
       "    <tr>\n",
       "      <th>3</th>\n",
       "      <td>2017</td>\n",
       "      <td>444</td>\n",
       "      <td>3021</td>\n",
       "      <td>1118.0</td>\n",
       "      <td>6.0</td>\n",
       "      <td>0.0</td>\n",
       "      <td>0.0</td>\n",
       "      <td>0.0</td>\n",
       "    </tr>\n",
       "    <tr>\n",
       "      <th>4</th>\n",
       "      <td>2017</td>\n",
       "      <td>444</td>\n",
       "      <td>2973</td>\n",
       "      <td>692.0</td>\n",
       "      <td>6.0</td>\n",
       "      <td>0.0</td>\n",
       "      <td>0.0</td>\n",
       "      <td>0.0</td>\n",
       "    </tr>\n",
       "  </tbody>\n",
       "</table>\n",
       "</div>"
      ],
      "text/plain": [
       "   Season_Year  GameKey  PlayID  danger_Very_Low  danger_Low  danger_Medium  \\\n",
       "0         2016        3     455           1054.0        18.0            0.0   \n",
       "1         2017      444    3454            572.0         4.0            0.0   \n",
       "2         2017      444    3202            724.0        26.0            0.0   \n",
       "3         2017      444    3021           1118.0         6.0            0.0   \n",
       "4         2017      444    2973            692.0         6.0            0.0   \n",
       "\n",
       "   danger_High  danger_Very_High  \n",
       "0          0.0               0.0  \n",
       "1          0.0               0.0  \n",
       "2          0.0               0.0  \n",
       "3          0.0               0.0  \n",
       "4          0.0               0.0  "
      ]
     },
     "execution_count": 40,
     "metadata": {},
     "output_type": "execute_result"
    }
   ],
   "source": [
    "counts['heuristic'] = counts['danger_Low'] +\n",
    "                      (counts['danger_Medium']) +\n",
    "                      (counts['danger_High'] ) +\n",
    "                      (counts['danger_Very_High'] * 10)"
   ]
  },
  {
   "cell_type": "code",
   "execution_count": 69,
   "metadata": {},
   "outputs": [],
   "source": [
    "play_danger = df.loc[df['opp_momentum'] > 250].groupby(['Season_Year','GameKey','PlayID'])['opp_momentum'].describe().reset_index()"
   ]
  },
  {
   "cell_type": "code",
   "execution_count": 63,
   "metadata": {},
   "outputs": [
    {
     "data": {
      "text/html": [
       "<div>\n",
       "<style scoped>\n",
       "    .dataframe tbody tr th:only-of-type {\n",
       "        vertical-align: middle;\n",
       "    }\n",
       "\n",
       "    .dataframe tbody tr th {\n",
       "        vertical-align: top;\n",
       "    }\n",
       "\n",
       "    .dataframe thead th {\n",
       "        text-align: right;\n",
       "    }\n",
       "</style>\n",
       "<table border=\"1\" class=\"dataframe\">\n",
       "  <thead>\n",
       "    <tr style=\"text-align: right;\">\n",
       "      <th></th>\n",
       "      <th>Season_Year</th>\n",
       "      <th>GameKey</th>\n",
       "      <th>PlayID</th>\n",
       "      <th>count</th>\n",
       "      <th>mean</th>\n",
       "      <th>std</th>\n",
       "      <th>min</th>\n",
       "      <th>25%</th>\n",
       "      <th>50%</th>\n",
       "      <th>75%</th>\n",
       "      <th>max</th>\n",
       "    </tr>\n",
       "  </thead>\n",
       "  <tbody>\n",
       "    <tr>\n",
       "      <th>0</th>\n",
       "      <td>2016</td>\n",
       "      <td>3</td>\n",
       "      <td>455</td>\n",
       "      <td>282.0</td>\n",
       "      <td>311.748190</td>\n",
       "      <td>140.324484</td>\n",
       "      <td>200.707338</td>\n",
       "      <td>228.760124</td>\n",
       "      <td>264.071934</td>\n",
       "      <td>329.007119</td>\n",
       "      <td>866.982684</td>\n",
       "    </tr>\n",
       "    <tr>\n",
       "      <th>1</th>\n",
       "      <td>2016</td>\n",
       "      <td>3</td>\n",
       "      <td>1388</td>\n",
       "      <td>94.0</td>\n",
       "      <td>341.470590</td>\n",
       "      <td>138.770260</td>\n",
       "      <td>204.009072</td>\n",
       "      <td>246.541106</td>\n",
       "      <td>301.592891</td>\n",
       "      <td>360.585753</td>\n",
       "      <td>763.770944</td>\n",
       "    </tr>\n",
       "    <tr>\n",
       "      <th>2</th>\n",
       "      <td>2016</td>\n",
       "      <td>3</td>\n",
       "      <td>1542</td>\n",
       "      <td>334.0</td>\n",
       "      <td>320.066539</td>\n",
       "      <td>132.389380</td>\n",
       "      <td>200.628268</td>\n",
       "      <td>233.393450</td>\n",
       "      <td>275.116939</td>\n",
       "      <td>342.707027</td>\n",
       "      <td>804.100743</td>\n",
       "    </tr>\n",
       "    <tr>\n",
       "      <th>3</th>\n",
       "      <td>2016</td>\n",
       "      <td>3</td>\n",
       "      <td>1676</td>\n",
       "      <td>204.0</td>\n",
       "      <td>316.185132</td>\n",
       "      <td>126.201094</td>\n",
       "      <td>201.375967</td>\n",
       "      <td>231.053748</td>\n",
       "      <td>286.362193</td>\n",
       "      <td>345.815314</td>\n",
       "      <td>765.896076</td>\n",
       "    </tr>\n",
       "    <tr>\n",
       "      <th>4</th>\n",
       "      <td>2016</td>\n",
       "      <td>3</td>\n",
       "      <td>2643</td>\n",
       "      <td>568.0</td>\n",
       "      <td>291.905347</td>\n",
       "      <td>89.252908</td>\n",
       "      <td>200.061324</td>\n",
       "      <td>224.625453</td>\n",
       "      <td>258.006641</td>\n",
       "      <td>343.253726</td>\n",
       "      <td>676.381699</td>\n",
       "    </tr>\n",
       "  </tbody>\n",
       "</table>\n",
       "</div>"
      ],
      "text/plain": [
       "   Season_Year  GameKey  PlayID  count        mean         std         min  \\\n",
       "0         2016        3     455  282.0  311.748190  140.324484  200.707338   \n",
       "1         2016        3    1388   94.0  341.470590  138.770260  204.009072   \n",
       "2         2016        3    1542  334.0  320.066539  132.389380  200.628268   \n",
       "3         2016        3    1676  204.0  316.185132  126.201094  201.375967   \n",
       "4         2016        3    2643  568.0  291.905347   89.252908  200.061324   \n",
       "\n",
       "          25%         50%         75%         max  \n",
       "0  228.760124  264.071934  329.007119  866.982684  \n",
       "1  246.541106  301.592891  360.585753  763.770944  \n",
       "2  233.393450  275.116939  342.707027  804.100743  \n",
       "3  231.053748  286.362193  345.815314  765.896076  \n",
       "4  224.625453  258.006641  343.253726  676.381699  "
      ]
     },
     "execution_count": 63,
     "metadata": {},
     "output_type": "execute_result"
    }
   ],
   "source": [
    "play_danger.head()"
   ]
  },
  {
   "cell_type": "code",
   "execution_count": 70,
   "metadata": {},
   "outputs": [],
   "source": [
    "pi = pd.read_csv('../input/play_information.csv')"
   ]
  },
  {
   "cell_type": "code",
   "execution_count": 71,
   "metadata": {},
   "outputs": [],
   "source": [
    "plays_with_danger = pd.merge(pi, play_danger)"
   ]
  },
  {
   "cell_type": "code",
   "execution_count": 72,
   "metadata": {},
   "outputs": [],
   "source": [
    "plays_with_danger = plays_with_danger.sort_values('max')\n",
    "plays_with_danger.to_csv('../working/play_with_danger.csv')"
   ]
  },
  {
   "cell_type": "code",
   "execution_count": null,
   "metadata": {},
   "outputs": [],
   "source": []
  }
 ],
 "metadata": {
  "kernelspec": {
   "display_name": "Python 3",
   "language": "python",
   "name": "python3"
  },
  "language_info": {
   "codemirror_mode": {
    "name": "ipython",
    "version": 3
   },
   "file_extension": ".py",
   "mimetype": "text/x-python",
   "name": "python",
   "nbconvert_exporter": "python",
   "pygments_lexer": "ipython3",
   "version": "3.7.0"
  }
 },
 "nbformat": 4,
 "nbformat_minor": 2
}
